{
 "cells": [
  {
   "cell_type": "markdown",
   "metadata": {},
   "source": [
    "---\n",
    "layout: post\n",
    "title: Articulation Blog Final 2024 Tri 2 CSSE\n",
    "description: What I learned in CSSE tri 2 - Javascript Obj, Finite State Machines, Single Reponsiblilty Principal, Game Control & Draw.IO\n",
    "courses: {'csse': {'week': 12}}\n",
    "type: collab\n",
    "permalink: /basics/home\n",
    "---"
   ]
  },
  {
   "cell_type": "raw",
   "metadata": {},
   "source": [
    "{% include nav_basics.html %}\n"
   ]
  },
  {
   "cell_type": "markdown",
   "metadata": {},
   "source": [
    "## What I learned in TRI 2 of CSSE \n",
    "- In depth detail about Javascript Objects, Finite State Machines, Single Responibilty Principal, Game Control & Draw.IO\n",
    "- Coded a game where I used all these techinuques/ojects\n"
   ]
  }
 ],
 "metadata": {
  "kernelspec": {
   "display_name": "Python 3",
   "language": "python",
   "name": "python3"
  },
  "language_info": {
   "name": "python",
   "version": "3.9.12"
  },
  "orig_nbformat": 4
 },
 "nbformat": 4,
 "nbformat_minor": 2
}
