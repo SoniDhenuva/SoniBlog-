{
 "cells": [
  {
   "cell_type": "markdown",
   "metadata": {},
   "source": [
    "---\n",
    "title: Single Responsibility Principal\n",
    "hide: True\n",
    "description: A Tech Talk on javascript data types and how to use with lists\n",
    "type: collab\n",
    "permalink: /basics/srp\n",
    "author: Soni Dhenuva\n",
    "---"
   ]
  },
  {
   "cell_type": "raw",
   "metadata": {},
   "source": [
    "{% include nav_basics.html %}\n"
   ]
  },
  {
   "cell_type": "markdown",
   "metadata": {},
   "source": [
    "## What is Single Reponsibilty Principal?\n",
    "- The single responsiblilty principe is a programming concept that states that a class should only have one reason to change. For example it could be a function that runs and only depends on itself. This principal is part of the Object-Oriented Programming (OOP)\n",
    "\n",
    "### Class Design\n",
    "- SRP can help keep code clean and neat since its run and only depends on itself. So adding and additions or removing code can be a lot simpler and more organized.\n",
    "\n",
    "### Method Design \n",
    "- In game devolpment it is cruail to keep the code as simple and clean as possible because games ususally involve a lot of complcated system interacting with each other, and SRP can make it easir to understand how these systems work with each other.\n",
    "\n",
    "### Debugging\n",
    "- using SRP can make finding and fixing bugs a lot easir. Since you can focus on one specific funcitionailty when something fails, instead of scavanging through messy files."
   ]
  },
  {
   "cell_type": "markdown",
   "metadata": {},
   "source": [
    "## SRP beings used in our game"
   ]
  },
  {
   "cell_type": "code",
   "execution_count": null,
   "metadata": {
    "vscode": {
     "languageId": "javascript"
    }
   },
   "outputs": [],
   "source": [
    "import Background from './Background.js';\n",
    "export class BackgroundSnow extends Background {\n",
    "    constructor(canvas, image, data) {\n",
    "        super(canvas, image, data);\n",
    "        this.parallaxSpeed = 0.3; // Speed for vertical parallax scrolling\n",
    "        this.y = 0; // Initialize the y position\n",
    "        this.ctx = this.canvas.getContext('2d'); // Ensure context is initialized\n",
    "    }\n",
    "    // Update method to handle vertical scrolling\n",
    "    update() {\n",
    "        this.y += this.parallaxSpeed; // Move vertically based on parallax speed\n",
    "        // Reset the position once the entire image has scrolled through the canvas\n",
    "        if (this.y >= this.image.height) {\n",
    "            this.y -= this.image.height; // Reset to the top of the image\n",
    "        }\n",
    "        super.update();\n",
    "    }\n",
    "    // Draw method to render the background image vertically\n",
    "    draw() {\n",
    "        this.ctx.clearRect(0, 0, this.canvas.width, this.canvas.height); // Clear the canvas\n",
    "        // Calculate the vertical positions for drawing\n",
    "        const firstImageY = this.y % this.image.height;\n",
    "        const secondImageY = firstImageY - this.image.height;\n",
    "        // Draw the first image\n",
    "        this.ctx.drawImage(this.image, 0, firstImageY, this.canvas.width, this.image.height);\n",
    "        // Draw the second image above the first one for seamless scrolling\n",
    "        this.ctx.drawImage(this.image, 0, secondImageY, this.canvas.width, this.image.height);\n",
    "        // Optionally, call the super draw method if it adds additional necessary drawing\n",
    "        // but only if it's confirmed not to interfere\n",
    "        // super.draw();\n",
    "    }\n",
    "}\n",
    "export default BackgroundSnow;"
   ]
  },
  {
   "cell_type": "markdown",
   "metadata": {},
   "source": [
    "## How I incooperated SRP in our game\n",
    "- In our game level I was also working with backgrounds. I wanted to use parallax background to create a 3d effect on our game to mimic the real world. A funn addition I added was the falling snow. In my code above, 3 different SRP are being used. The constructor, update and draw. \n",
    "- The constructors uses SRP because its sole responsibility is to set up the initial state.\n",
    "- The update function also uses SRP because it sole reponsibility is to adjust the y position for the scrolling effect.\n",
    "- The draw Method also follows SRP since it only deals with drawing the images on the canvas based on the current state."
   ]
  }
 ],
 "metadata": {
  "kernelspec": {
   "display_name": "Python 3 (ipykernel)",
   "language": "python",
   "name": "python3"
  },
  "language_info": {
   "codemirror_mode": {
    "name": "ipython",
    "version": 3
   },
   "file_extension": ".py",
   "mimetype": "text/x-python",
   "name": "python",
   "nbconvert_exporter": "python",
   "pygments_lexer": "ipython3",
   "version": "3.9.12"
  }
 },
 "nbformat": 4,
 "nbformat_minor": 4
}
