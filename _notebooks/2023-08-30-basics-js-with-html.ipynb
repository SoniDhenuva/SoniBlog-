{
 "cells": [
  {
   "cell_type": "markdown",
   "metadata": {},
   "source": [
    "---\n",
    "title: Game Control\n",
    "hide: True\n",
    "description: A Tech Talk on how javascript can interact with HTML DOM\n",
    "type: collab\n",
    "permalink: /basics/gameControl\n",
    "author: Soni Dhenuva\n",
    "---"
   ]
  },
  {
   "cell_type": "raw",
   "metadata": {},
   "source": [
    "{% include nav_basics.html %}\n"
   ]
  },
  {
   "cell_type": "markdown",
   "metadata": {},
   "source": [
    "## Where is our Gamelevel being used in Gamecontrol?\n",
    "- It being called in the main Gameloop\n",
    "- The GameLevel class is used in GameControl to maintain level transitions and to check if levels are complete during the game loop. This function ensures that the game progresses smoothly from one level to the next, maintaining the overall game flow."
   ]
  },
  {
   "cell_type": "code",
   "execution_count": null,
   "metadata": {
    "vscode": {
     "languageId": "javascript"
    }
   },
   "outputs": [],
   "source": [
    "/**\n",
    " * The main game control loop.\n",
    " * Checks if the game is in transition. If it's not, it updates the game environment,\n",
    " * checks if the current level is complete, and if it is, transitions to the next level.\n",
    " * If the current level is null, it transitions to the beginning of the game.\n",
    " * Finally, it calls itself again using requestAnimationFrame to create a loop.\n",
    " */    \n",
    "gameLoop() {\n",
    "    // Turn game loop off during transitions\n",
    "    if (!this.inTransition) {\n",
    "\n",
    "        // Get current level\n",
    "        GameEnv.update();\n",
    "        const currentLevel = GameEnv.currentLevel;\n",
    "\n",
    "        // currentLevel is defined\n",
    "        if (currentLevel) {\n",
    "            // run the isComplete callback function\n",
    "            if (currentLevel.isComplete && currentLevel.isComplete()) {\n",
    "                const currentIndex = GameEnv.levels.indexOf(currentLevel);\n",
    "                // next index is in bounds\n",
    "                if (currentIndex !== -1 && currentIndex + 1 < GameEnv.levels.length) {\n",
    "                    // transition to the next level\n",
    "                    this.transitionToLevel(GameEnv.levels[currentIndex + 1]);\n",
    "                } \n",
    "            }\n",
    "        // currentLevel is null, (ie start or restart game)\n",
    "        } else {\n",
    "            // transition to beginning of game\n",
    "            this.transitionToLevel(GameEnv.levels[0]);\n",
    "        }\n",
    "    }\n",
    "\n",
    "    // recycle gameLoop, aka recursion\n",
    "    requestAnimationFrame(this.gameLoop.bind(this));  \n",
    "}"
   ]
  },
  {
   "cell_type": "markdown",
   "metadata": {},
   "source": [
    "## This is the Main Game Loop\n",
    "- First Checks if the game is in transition. If it's not, it updates the game environment,\n",
    "- Then it checks if the current level is complete, and if it is, transitions to the next level.\n",
    "- If the current level is null, it transitions to the beginning of the game.\n",
    "- Finally, it calls itself again using requestAnimationFrame to create a loop.\n",
    "- At first is call GameEnv.update() to change to the current level"
   ]
  },
  {
   "cell_type": "code",
   "execution_count": null,
   "metadata": {
    "vscode": {
     "languageId": "javascript"
    }
   },
   "outputs": [],
   "source": [
    "    \n",
    " gameLoop() {\n",
    "    // Turn game loop off during transitions\n",
    "    if (!this.inTransition) {\n",
    "\n",
    "        // Get current level\n",
    "        GameEnv.update();\n",
    "        const currentLevel = GameEnv.currentLevel;\n",
    "\n",
    "        // currentLevel is defined\n",
    "        if (currentLevel) {\n",
    "            // run the isComplete callback function\n",
    "            if (currentLevel.isComplete && currentLevel.isComplete()) {\n",
    "                const currentIndex = GameEnv.levels.indexOf(currentLevel);\n",
    "                // next index is in bounds\n",
    "                if (currentIndex !== -1 && currentIndex + 1 < GameEnv.levels.length) {\n",
    "                    // transition to the next level\n",
    "                    this.transitionToLevel(GameEnv.levels[currentIndex + 1]);\n",
    "                } \n",
    "            }\n",
    "        // currentLevel is null, (ie start or restart game)\n",
    "        } else {\n",
    "            // transition to beginning of game\n",
    "            this.transitionToLevel(GameEnv.levels[0]);\n",
    "        }\n",
    "    }\n",
    "\n",
    "    // recycle gameLoop, aka recursion\n",
    "    requestAnimationFrame(this.gameLoop.bind(this));  \n",
    "}"
   ]
  },
  {
   "cell_type": "markdown",
   "metadata": {},
   "source": [
    "## This is Where in the Code determines the end of the Game level, and destroys all objects and transitions.\n",
    "- This code transitions to a new level. Destroys the current level and loads the new level."
   ]
  },
  {
   "cell_type": "code",
   "execution_count": null,
   "metadata": {
    "vscode": {
     "languageId": "javascript"
    }
   },
   "outputs": [],
   "source": [
    "@param {Object} newLevel //- The new level to transition to.\n",
    "//\n",
    "async transitionToLevel(newLevel) {\n",
    "   this.inTransition = true;\n",
    "\n",
    "   // Destroy existing game objects\n",
    "   GameEnv.destroy();\n",
    "\n",
    "   // Load GameLevel objects\n",
    "   if (GameEnv.currentLevel !== newLevel) {\n",
    "       GameEnv.claimedCoinIds = [];\n",
    "   }\n",
    "   await newLevel.load();\n",
    "   GameEnv.currentLevel = newLevel;\n",
    "\n",
    "   // Update invert property\n",
    "   GameEnv.setInvert();\n",
    "   \n",
    "   // Trigger a resize to redraw canvas elements\n",
    "   window.dispatchEvent(new Event('resize'));\n",
    "\n",
    "   this.inTransition = false;\n",
    "}"
   ]
  }
 ],
 "metadata": {
  "kernelspec": {
   "display_name": "Python 3",
   "language": "python",
   "name": "python3"
  },
  "language_info": {
   "codemirror_mode": {
    "name": "ipython",
    "version": 3
   },
   "file_extension": ".py",
   "mimetype": "text/x-python",
   "name": "python",
   "nbconvert_exporter": "python",
   "pygments_lexer": "ipython3",
   "version": "3.10.12"
  },
  "orig_nbformat": 4
 },
 "nbformat": 4,
 "nbformat_minor": 2
}
