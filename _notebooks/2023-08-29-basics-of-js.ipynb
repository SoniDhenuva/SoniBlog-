{
 "cells": [
  {
   "cell_type": "markdown",
   "metadata": {},
   "source": [
    "---\n",
    "title: Finite State Machines\n",
    "hide: True\n",
    "description: A Tech Talk on how to use javascript\n",
    "type: collab\n",
    "permalink: /basics/fsm\n",
    "author: Soni Dhenuva\n",
    "---"
   ]
  },
  {
   "cell_type": "raw",
   "metadata": {},
   "source": [
    "{% include nav_basics.html %}\n"
   ]
  },
  {
   "cell_type": "markdown",
   "metadata": {},
   "source": [
    "\n",
    "## What are FINITE STATE MACHINES?\n",
    "- Finite state machines are the finite number of states a player can be in during the game. They can range form walk, idle, jump, sprint, flip, attack, death animations. \n",
    "- This makes it so the player can move from one state to another based on the players actions."
   ]
  },
  {
   "cell_type": "markdown",
   "metadata": {},
   "source": [
    "## States VS Transitions VS Actions\n",
    "- States: A state represents the staus or condition of a game charater at a certain time. For exmaple in our game we could use, \"state.animation\" to show the current animation staes of a charcter, such as \"idle\" \"walk\" \"flip\" \"jump\". Like that in our game we use a lot of collision, so \"state.collision\" could represent the collision state like \"wall\" \"floor\" or \"jumpPlatform\"\n",
    "\n",
    "-Transitions: Transitions are conditions on how/when a states machine can move from one state to another. For example the trigger could be a click of a button, timers, loops or when an action occurs in the game.\n",
    "\n",
    "-Actions: An action is the animation that will be performed that is accosicated with that staes. For exmaple when the character enters the \"walk\" stae animation, it would start walking on the screen."
   ]
  },
  {
   "cell_type": "markdown",
   "metadata": {},
   "source": [
    "## FINITE STATE MACHINES in our game level"
   ]
  },
  {
   "cell_type": "code",
   "execution_count": null,
   "metadata": {
    "vscode": {
     "languageId": "javascript"
    }
   },
   "outputs": [],
   "source": [
    "updateFrameX() {\n",
    "    if (!this.state.isDying || this.state.animation != \"death\") {\n",
    "        if (this.frameX < this.maxFrame) {\n",
    "            if (this.counter > 0) {\n",
    "                this.frameX = this.frameX;\n",
    "                this.counter--;\n",
    "            } else {\n",
    "                this.frameX++;\n",
    "                this.counter = this.animationSpeed;\n",
    "            }\n",
    "        } else {\n",
    "            this.frameX = this.minFrame;\n",
    "        }\n",
    "    } else if (this.state.isDying && this.state.animation == \"death\") {\n",
    "        this.animationSpeed = 20;\n",
    "        if (this.frameX < this.maxFrame) {\n",
    "            if (this.counter > 0) {\n",
    "                this.frameX = this.frameX;\n",
    "                this.counter--;\n",
    "            } else {\n",
    "                this.frameX++;\n",
    "                this.counter = this.animationSpeed;\n",
    "            }\n",
    "        } else {\n",
    "            this.destroy();\n",
    "            this.hpBar.destroy();\n",
    "        }\n",
    "    }\n",
    "}\n",
    "\n",
    "updateMovement() {\n",
    "    if (this.state.animation === \"right\") {\n",
    "        this.speed = Math.abs(this.storeSpeed);\n",
    "    } else if (this.state.animation === \"left\") {\n",
    "        this.speed = -Math.abs(this.storeSpeed);\n",
    "    } else {\n",
    "        this.speed = 0;\n",
    "    }\n",
    "    this.x += this.speed;\n",
    "    this.playerBottomCollision = false;\n",
    "}\n",
    "\n",
    "update() {\n",
    "    super.update();\n",
    "    this.hpBar.updateHpBar(this.currentHp, this.x, this.y, this.canvasWidth, this.canvasHeight);\n",
    "}\n",
    "\n",
    "collisionAction() {\n",
    "    const other = this.collisionData.touchPoints.other;\n",
    "\n",
    "    if (other.id === \"tube\") {\n",
    "        if (this.state.direction === \"left\" && other.right) {\n",
    "            this.state.animation = \"right\";\n",
    "            this.state.direction = \"right\";\n",
    "        } else if (this.state.direction === \"right\" && other.left) {\n",
    "            this.state.animation = \"left\";\n",
    "            this.state.direction = \"left\";\n",
    "        }\n",
    "    }\n",
    "\n",
    "    if (other.id === \"PlayerIce\" || other.id === \"player\") {\n",
    "        if (other.right && !other.bottom) {\n",
    "            this.x -= 10;\n",
    "            this.state.direction = \"left\";\n",
    "            this.state.animation = \"attackL\";\n",
    "            this.speed = 0;\n",
    "            this.attackPlayerIce();\n",
    "        } else if (other.left && !other.bottom) {\n",
    "            this.x += 10;\n",
    "            this.state.direction = \"right\";\n",
    "            this.state.animation = \"attackR\";\n",
    "            this.speed = 0;\n",
    "            this.attackPlayerIce();\n",
    "        } else if (other.bottom && this.immune == 0) {\n",
    "            GameEnv.goombaBounce = true;\n",
    "            this.takeDamage(10);\n",
    "        }\n",
    "    } \n",
    "}\n"
   ]
  },
  {
   "cell_type": "markdown",
   "metadata": {},
   "source": [
    "## How it was used in our Code\n",
    "- Me and Varnika worked on our new boss in our mini game level, NarwhalBoss. The Narwhal boss used many diffrent finite states machines as presents above. There was a \"idle\" \"walk right\" \"walk left\" \"attack right\" \"attack left\" and \"death animations. In the code above we were working on the deaths animations being implements. Whenever the state of the dying narwhal was triggered, we wanted the counter to got down and the HP bar destory function actived, which made the narwhal disappear completely. We also looked at the right and left animations and made sure that when the narwhal was walking or attacking left, the animation would correspond to the the left side. "
   ]
  }
 ],
 "metadata": {
  "kernelspec": {
   "display_name": "Python 3",
   "language": "python",
   "name": "python3"
  },
  "language_info": {
   "codemirror_mode": {
    "name": "ipython",
    "version": 3
   },
   "file_extension": ".py",
   "mimetype": "text/x-python",
   "name": "python",
   "nbconvert_exporter": "python",
   "pygments_lexer": "ipython3",
   "version": "3.9.12"
  },
  "orig_nbformat": 4
 },
 "nbformat": 4,
 "nbformat_minor": 2
}
