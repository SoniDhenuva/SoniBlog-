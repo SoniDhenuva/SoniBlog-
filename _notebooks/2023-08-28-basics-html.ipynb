{
 "cells": [
  {
   "cell_type": "markdown",
   "metadata": {},
   "source": [
    "---\n",
    "layout: post\n",
    "hide: True\n",
    "title: Javascript Objects\n",
    "description: An introduction to basic HTML, and resources to learn more.\n",
    "type: collab\n",
    "permalink: /basics/JO\n",
    "author: Soni Dhenuva\n",
    "---"
   ]
  },
  {
   "cell_type": "raw",
   "metadata": {},
   "source": [
    "{% include nav_basics.html %}\n"
   ]
  },
  {
   "cell_type": "markdown",
   "metadata": {},
   "source": [
    "\n",
    "## What are JAVASCRIPT OBJECTS?\n",
    "- Javascript objects are variables that can hold  multiple values, like name, hieght, color, type,etc.\n",
    "- They are also known has key-value pairs, where each key is a string and the value is any data type. These - objects are used to store, manipulate or send data.\n",
    "- To intiazilze a Javascript object you use the key word const.\n"
   ]
  },
  {
   "cell_type": "markdown",
   "metadata": {},
   "source": [
    "## Properties VS Method\n",
    "- Properties in Javascript objects are accosicated with Values. These properties can be added, changed or deleted. \n",
    "- Methods are the actions being performed on the objects. A method is a property that contains a function definition."
   ]
  },
  {
   "cell_type": "markdown",
   "metadata": {},
   "source": [
    "## JAVASCRIPT OBJECTS Used in Our Winter levels/Mini Levels"
   ]
  },
  {
   "cell_type": "code",
   "execution_count": null,
   "metadata": {
    "vscode": {
     "languageId": "javascript"
    }
   },
   "outputs": [],
   "source": [
    "const objects = [\n",
    "    // GameObject(s), the order is important to z-index...\n",
    "    { name: 'winter', id: 'background', class: BackgroundParallax, data: assets.backgrounds.winter },\n",
    "    { name: 'snow', id: 'background', class: BackgroundSnow, data: assets.backgrounds.snow },\n",
    "    { name: 'snowyfloor', id: 'platform', class: Platform, data: assets.platforms.snowyfloor },\n",
    "    { name: 'blocks', id: 'jumpPlatform', class: BlockPlatform, data: assets.platforms.snowywood, xPercentage: 0.2, yPercentage: 0.82 },\n",
    "    { name: 'blocks', id: 'jumpPlatform', class: BlockPlatform, data: assets.platforms.snowywood, xPercentage: 0.2368, yPercentage: 0.82 },\n",
    "    { name: 'blocks', id: 'jumpPlatform', class: BlockPlatform, data: assets.platforms.snowywood, xPercentage: 0.2736, yPercentage: 0.82 },\n",
    "    { name: 'blocks', id: 'jumpPlatform', class: BlockPlatform, data: assets.platforms.snowywood, xPercentage: 0.3104, yPercentage: 0.82 },\n",
    "    { name: 'blocks', id: 'jumpPlatform', class: BlockPlatform, data: assets.platforms.snowywood, xPercentage: 0.3472, yPercentage: 0.82 },\n",
    "    { name: 'blocks', id: 'jumpPlatform', class: BlockPlatform, data: assets.platforms.snowywood, xPercentage: 0.384, yPercentage: 0.74 },\n",
    "    { name: 'blocks', id: 'jumpPlatform', class: BlockPlatform, data: assets.platforms.snowywood, xPercentage: 0.4208, yPercentage: 0.66 },\n",
    "    { name: 'blocks', id: 'jumpPlatform', class: BlockPlatform, data: assets.platforms.snowywood, xPercentage: 0.5090, yPercentage: 0.56 },\n",
    "    { name: 'blocks', id: 'jumpPlatform', class: BlockPlatform, data: assets.platforms.snowywood, xPercentage: 0.5090, yPercentage: 0.48 },\n",
    "    { name: 'blocks', id: 'jumpPlatform', class: BlockPlatform, data: assets.platforms.snowywood, xPercentage: 0.5090, yPercentage: 0.40 },\n",
    "    { name: 'blocks', id: 'jumpPlatform', class: BlockPlatform, data: assets.platforms.snowywood, xPercentage: 0.5090, yPercentage: 0.32 },\n",
    "    { name: 'blocks', id: 'jumpPlatform', class: BlockPlatform, data: assets.platforms.snowywood, xPercentage: 0.69, yPercentage: 0.76 },\n",
    "    { name: 'blocks', id: 'jumpPlatform', class: BlockPlatform, data: assets.platforms.snowywood, xPercentage: 0.655, yPercentage: 0.68 },\n",
    "    { name: 'blocks', id: 'jumpPlatform', class: BlockPlatform, data: assets.platforms.snowywood, xPercentage: 0.62, yPercentage: 0.68 },\n",
    "    { name: 'blocks', id: 'jumpPlatform', class: BlockPlatform, data: assets.platforms.snowywood, xPercentage: 0.72, yPercentage: 0.76 },\n",
    "    { name: 'blocks', id: 'jumpPlatform', class: BlockPlatform, data: assets.platforms.snowywood, xPercentage: 0.755, yPercentage: 1 },\n",
    "    { name: 'blocks', id: 'jumpPlatform', class: BlockPlatform, data: assets.platforms.snowywood, xPercentage: 0.755, yPercentage: 0.92 },\n",
    "    { name: 'blocks', id: 'jumpPlatform', class: BlockPlatform, data: assets.platforms.snowywood, xPercentage: 0.755, yPercentage: 0.84 },\n",
    "    { name: 'blocks', id: 'jumpPlatform', class: BlockPlatform, data: assets.platforms.snowywood, xPercentage: 0.625, yPercentage: 0.92 },\n",
    "    { name: 'blocks', id: 'jumpPlatform', class: BlockPlatform, data: assets.platforms.snowywood, xPercentage: 0.625, yPercentage: 1 },\n",
    "    { name: 'snowflake', id: 'coin', class: Coin, data: assets.obstacles.snowflake, xPercentage: 0.2100, yPercentage: 0.72 },\n",
    "    { name: 'snowflake', id: 'coin', class: Coin, data: assets.obstacles.snowflake, xPercentage: 0.2619, yPercentage: 0.72 },\n",
    "    { name: 'snowflake', id: 'coin', class: Coin, data: assets.obstacles.snowflake, xPercentage: 0.3136, yPercentage: 0.72 },\n",
    "    { name: 'owl', id: 'owl', class: Owl, data: assets.enemies.Owl, xPercentage: 0.3, minPosition: 0.05 },\n",
    "    { name: 'owl', id: 'owl', class: Owl, data: assets.enemies.Owl, xPercentage: 0.8, minPosition: 0.05 },\n",
    "    { name: 'snowman', id: 'snowman', class: Snowman, data: assets.enemies.Snowman, xPercentage: 0.2, minPosition: 0.1, difficulties: [\"normal\", \"hard\", \"impossible\"] },\n",
    "    { name: 'snowman', id: 'snowman', class: Snowman, data: assets.enemies.Snowman, xPercentage: 0.35, minPosition: 0.1, difficulties: [\"normal\", \"hard\", \"impossible\"] },\n",
    "    { name: 'snowman', id: 'snowman', class: Snowman, data: assets.enemies.Snowman, xPercentage: 0.5, minPosition: 0.1, difficulties: [\"normal\", \"hard\", \"impossible\"] },\n",
    "    { name: 'mario', id: 'player', class: PlayerWinter, data: assets.players.whitemario },\n",
    "    { name: 'cabin', id: 'finishline', class: FinishLine, data: assets.obstacles.cabin, xPercentage: 0.85, yPercentage: 0.795 },\n",
    "    { name: 'tubeU', id: 'minifinishline', class: FinishLine, data: assets.obstacles.tubeU, xPercentage: 0.675, yPercentage: 0.9 },\n",
    "    { name: 'quidditchEnd', id: 'background', class: BackgroundTransitions, data: assets.transitions.quidditchEnd },\n",
    "  ];"
   ]
  },
  {
   "cell_type": "code",
   "execution_count": null,
   "metadata": {
    "vscode": {
     "languageId": "javascript"
    }
   },
   "outputs": [],
   "source": [
    "const objects = [\n",
    "    // GameObject(s), the order is important to z-index...\n",
    "    { name: 'icewater', id: 'background', class: BackgroundParallax, data: assets.backgrounds.icewater },\n",
    "    { name: 'narwhal', id: 'background', class: BackgroundParallax, data: assets.backgrounds.narwhal },\n",
    "    { name: 'narwhalfloor', id: 'platform', class: Platform, data: assets.platforms.narwhalfloor },\n",
    "    { name: 'sandstone', id: 'jumpPlatform', class: BlockPlatform, data: assets.platforms.snowywood, xPercentage: 0.2, yPercentage: 0.82 },\n",
    "    { name: 'blocks', id: 'jumpPlatform', class: BlockPlatform, data: assets.platforms.snowywood, xPercentage: 0.2368, yPercentage: 0.82 },\n",
    "    { name: 'blocks', id: 'jumpPlatform', class: BlockPlatform, data: assets.platforms.snowywood, xPercentage: 0.2736, yPercentage: 0.82 },\n",
    "    { name: 'blocks', id: 'jumpPlatform', class: BlockPlatform, data: assets.platforms.snowywood, xPercentage: 0.3104, yPercentage: 0.82 },\n",
    "    { name: 'blocks', id: 'jumpPlatform', class: BlockPlatform, data: assets.platforms.snowywood, xPercentage: 0.3472, yPercentage: 0.74 },\n",
    "    { name: 'blocks', id: 'jumpPlatform', class: BlockPlatform, data: assets.platforms.snowywood, xPercentage: 0.59, yPercentage: 0.35 },\n",
    "    { name: 'blocks', id: 'jumpPlatform', class: BlockPlatform, data: assets.platforms.snowywood, xPercentage: 0.6268, yPercentage: 0.35 },\n",
    "    { name: 'blocks', id: 'jumpPlatform', class: BlockPlatform, data: assets.platforms.snowywood, xPercentage: 0.3, yPercentage: 0.35 },\n",
    "    { name: 'blocks', id: 'jumpPlatform', class: BlockPlatform, data: assets.platforms.snowywood, xPercentage: 0.332, yPercentage: 0.35 },\n",
    "    { name: 'blocks', id: 'jumpPlatform', class: BlockPlatform, data: assets.platforms.snowywood, xPercentage: 0.3736, yPercentage: 0.6 },\n",
    "    { name: 'blocks', id: 'jumpPlatform', class: BlockPlatform, data: assets.platforms.snowywood, xPercentage: 0.4104, yPercentage: 0.6 },\n",
    "    { name: 'blocks', id: 'jumpPlatform', class: BlockPlatform, data: assets.platforms.snowywood, xPercentage: 0.4472, yPercentage: 0.6 },\n",
    "    { name: 'blocks', id: 'jumpPlatform', class: BlockPlatform, data: assets.platforms.snowywood, xPercentage: 0.484, yPercentage: 0.6 },\n",
    "    { name: 'blocks', id: 'jumpPlatform', class: BlockPlatform, data: assets.platforms.snowywood, xPercentage: 0.5208, yPercentage: 0.6 },\n",
    "    { name: 'blocks', id: 'jumpPlatform', class: BlockPlatform, data: assets.platforms.snowywood, xPercentage: 0.5576, yPercentage: 0.6 },\n",
    "    { name: 'Snowflake', id: 'coin', class: Coin, data: assets.obstacles.snowflake, xPercentage: 0.325, yPercentage: 0.25 },\n",
    "    { name: 'Snowflake', id: 'coin', class: Coin, data: assets.obstacles.snowflake, xPercentage: 0.29, yPercentage: 0.25 },\n",
    "    { name: 'Snowflake', id: 'coin', class: Coin, data: assets.obstacles.snowflake, xPercentage: 0.40, yPercentage: 0.5 },\n",
    "    { name: 'Snowflake', id: 'coin', class: Coin, data: assets.obstacles.snowflake, xPercentage: 0.42, yPercentage: 0.5 },\n",
    "    { name: 'Snowflake', id: 'coin', class: Coin, data: assets.obstacles.snowflake, xPercentage: 0.44, yPercentage: 0.5 },\n",
    "    { name: 'Snowflake', id: 'coin', class: Coin, data: assets.obstacles.snowflake, xPercentage: 0.46, yPercentage: 0.5 },\n",
    "    { name: 'Snowflake', id: 'coin', class: Coin, data: assets.obstacles.snowflake, xPercentage: 0.48, yPercentage: 0.5 },\n",
    "    { name: 'Snowflake', id: 'coin', class: Coin, data: assets.obstacles.snowflake, xPercentage: 0.5, yPercentage: 0.5 },\n",
    "    { name: 'Snowflake', id: 'coin', class: Coin, data: assets.obstacles.snowflake, xPercentage: 0.58, yPercentage: 0.25 },\n",
    "    { name: 'Snowflake', id: 'coin', class: Coin, data: assets.obstacles.snowflake, xPercentage: 0.62, yPercentage: 0.25 },\n",
    "    { name: 'jellyfish', id: 'jellyfish', class: Jellyfish, data: assets.enemies.Jellyfish, xPercentage: 0.2, minPosition: 0.05 },\n",
    "    { name: 'jellyfish', id: 'jellyfish', class: Jellyfish, data: assets.enemies.Jellyfish, xPercentage: 0.8, minPosition: 0.05 },\n",
    "    { name: 'jellyfish', id: 'jellyfish', class: Jellyfish, data: assets.enemies.Jellyfish, xPercentage: 0.4, minPosition: 0.05 },\n",
    "    { name: 'jellyfish', id: 'jellyfish', class: Jellyfish, data: assets.enemies.Jellyfish, xPercentage: 0.7, minPosition: 0.05 },\n",
    "    { name: 'penguin', id: 'penguin', class: Penguin, data: assets.enemies.Penguin, xPercentage: 0.2, minPosition: 0.1, difficulties: [\"normal\", \"hard\", \"impossible\"] },\n",
    "    { name: 'penguin', id: 'penguin', class: Penguin, data: assets.enemies.Penguin, xPercentage: 0.35, minPosition: 0.1, difficulties: [\"normal\", \"hard\", \"impossible\"] },\n",
    "    { name: 'penguin', id: 'penguin', class: Penguin, data: assets.enemies.Penguin, xPercentage: 0.5, minPosition: 0.1, difficulties: [\"normal\", \"hard\", \"impossible\"] },\n",
    "    { name: 'narwhalboss', id: 'narwhalboss', class: NarwhalBoss, data: assets.enemies.narwhalboss, xPercentage: 0.5, minPosition: 0.3 },\n",
    "    { name: 'mario', id: 'player', class: PlayerIce, data: assets.players.whitemario },\n",
    "    { name: 'tubeD', id: 'minifinishline', class: FinishLine, data: assets.obstacles.tubeD, xPercentage: 0, yPercentage: 0.0685 },\n",
    "    { name: 'iceberg', id: 'finishline', class: FinishLine, data: assets.obstacles.iceberg, xPercentage: 0.85, yPercentage: 0.82 },\n",
    "    { name: 'winterEnd', id: 'background', class: BackgroundTransitions, data: assets.transitions.winterEnd },\n",
    "  ];"
   ]
  },
  {
   "cell_type": "markdown",
   "metadata": {},
   "source": [
    "## How I used them in Our Game Level\n",
    "- As you can see with this piece of code, this was our Main Winter & WinterGame Mini level Javascript Objects. Our key value pairs are the names, id, class, x-percentage, y-percentage, & data. One of the features i was working on With Varnika, was the Parallax Backgrounds. This allows our game to have a 3D effect since the background are interacting with the charcter. "
   ]
  }
 ],
 "metadata": {
  "kernelspec": {
   "display_name": "Python 3",
   "language": "python",
   "name": "python3"
  },
  "language_info": {
   "codemirror_mode": {
    "name": "ipython",
    "version": 3
   },
   "file_extension": ".py",
   "mimetype": "text/x-python",
   "name": "python",
   "nbconvert_exporter": "python",
   "pygments_lexer": "ipython3",
   "version": "3.10.12"
  },
  "orig_nbformat": 4
 },
 "nbformat": 4,
 "nbformat_minor": 2
}
